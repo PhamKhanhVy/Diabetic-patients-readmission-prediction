{
 "cells": [
  {
   "cell_type": "code",
   "execution_count": 1,
   "id": "88b2a01e",
   "metadata": {
    "_cell_guid": "b1076dfc-b9ad-4769-8c92-a6c4dae69d19",
    "_uuid": "8f2839f25d086af736a60e9eeb907d3b93b6e0e5",
    "execution": {
     "iopub.execute_input": "2023-12-20T10:55:06.825075Z",
     "iopub.status.busy": "2023-12-20T10:55:06.824657Z",
     "iopub.status.idle": "2023-12-20T10:55:07.281243Z",
     "shell.execute_reply": "2023-12-20T10:55:07.280079Z"
    },
    "papermill": {
     "duration": 0.473736,
     "end_time": "2023-12-20T10:55:07.284024",
     "exception": false,
     "start_time": "2023-12-20T10:55:06.810288",
     "status": "completed"
    },
    "tags": []
   },
   "outputs": [
    {
     "name": "stdout",
     "output_type": "stream",
     "text": [
      "/kaggle/input/uit-diabetic-patients-re-admission-prediction/IDs_mapping.csv\n",
      "/kaggle/input/uit-diabetic-patients-re-admission-prediction/test_diabetic_data.csv\n",
      "/kaggle/input/uit-diabetic-patients-re-admission-prediction/train_diabetic_data.csv\n",
      "/kaggle/input/uit-diabetic-patients-re-admission-prediction/2014 beata strack et al.pdf\n",
      "/kaggle/input/uit-diabetic-patients-re-admission-prediction/2016 bhuvan m s et al.pdf\n",
      "/kaggle/input/uit-diabetic-patients-re-admission-prediction/sample_solution.csv\n"
     ]
    }
   ],
   "source": [
    "# This Python 3 environment comes with many helpful analytics libraries installed\n",
    "# It is defined by the kaggle/python Docker image: https://github.com/kaggle/docker-python\n",
    "# For example, here's several helpful packages to load\n",
    "\n",
    "import numpy as np # linear algebra\n",
    "import pandas as pd # data processing, CSV file I/O (e.g. pd.read_csv)\n",
    "\n",
    "# Input data files are available in the read-only \"../input/\" directory\n",
    "# For example, running this (by clicking run or pressing Shift+Enter) will list all files under the input directory\n",
    "\n",
    "import os\n",
    "for dirname, _, filenames in os.walk('/kaggle/input'):\n",
    "    for filename in filenames:\n",
    "        print(os.path.join(dirname, filename))\n",
    "\n",
    "# You can write up to 20GB to the current directory (/kaggle/working/) that gets preserved as output when you create a version using \"Save & Run All\" \n",
    "# You can also write temporary files to /kaggle/temp/, but they won't be saved outside of the current session"
   ]
  },
  {
   "cell_type": "code",
   "execution_count": 2,
   "id": "5b766e83",
   "metadata": {
    "execution": {
     "iopub.execute_input": "2023-12-20T10:55:07.312083Z",
     "iopub.status.busy": "2023-12-20T10:55:07.310620Z",
     "iopub.status.idle": "2023-12-20T10:56:20.046834Z",
     "shell.execute_reply": "2023-12-20T10:56:20.045190Z"
    },
    "papermill": {
     "duration": 72.754271,
     "end_time": "2023-12-20T10:56:20.051024",
     "exception": false,
     "start_time": "2023-12-20T10:55:07.296753",
     "status": "completed"
    },
    "tags": []
   },
   "outputs": [
    {
     "name": "stdout",
     "output_type": "stream",
     "text": [
      "Collecting pyspark\r\n",
      "  Downloading pyspark-3.5.0.tar.gz (316.9 MB)\r\n",
      "\u001b[2K     \u001b[90m━━━━━━━━━━━━━━━━━━━━━━━━━━━━━━━━━━━━━━━\u001b[0m \u001b[32m316.9/316.9 MB\u001b[0m \u001b[31m3.3 MB/s\u001b[0m eta \u001b[36m0:00:00\u001b[0m\r\n",
      "\u001b[?25h  Preparing metadata (setup.py) ... \u001b[?25l-\b \b\\\b \bdone\r\n",
      "\u001b[?25hRequirement already satisfied: py4j==0.10.9.7 in /opt/conda/lib/python3.10/site-packages (from pyspark) (0.10.9.7)\r\n",
      "Building wheels for collected packages: pyspark\r\n",
      "  Building wheel for pyspark (setup.py) ... \u001b[?25l-\b \b\\\b \b|\b \bdone\r\n",
      "\u001b[?25h  Created wheel for pyspark: filename=pyspark-3.5.0-py2.py3-none-any.whl size=317425344 sha256=d254bf4f55c203931117e16c6203a5c8adc4f98fdf3eece1bb36240f80eb0ed4\r\n",
      "  Stored in directory: /root/.cache/pip/wheels/41/4e/10/c2cf2467f71c678cfc8a6b9ac9241e5e44a01940da8fbb17fc\r\n",
      "Successfully built pyspark\r\n",
      "Installing collected packages: pyspark\r\n",
      "Successfully installed pyspark-3.5.0\r\n",
      "Collecting findspark\r\n",
      "  Downloading findspark-2.0.1-py2.py3-none-any.whl (4.4 kB)\r\n",
      "Installing collected packages: findspark\r\n",
      "Successfully installed findspark-2.0.1\r\n"
     ]
    }
   ],
   "source": [
    "!pip install pyspark\n",
    "!pip install findspark"
   ]
  },
  {
   "cell_type": "code",
   "execution_count": 3,
   "id": "f7402e57",
   "metadata": {
    "execution": {
     "iopub.execute_input": "2023-12-20T10:56:20.106755Z",
     "iopub.status.busy": "2023-12-20T10:56:20.106208Z",
     "iopub.status.idle": "2023-12-20T10:56:28.604978Z",
     "shell.execute_reply": "2023-12-20T10:56:28.603115Z"
    },
    "papermill": {
     "duration": 8.530847,
     "end_time": "2023-12-20T10:56:28.608776",
     "exception": false,
     "start_time": "2023-12-20T10:56:20.077929",
     "status": "completed"
    },
    "tags": []
   },
   "outputs": [
    {
     "name": "stderr",
     "output_type": "stream",
     "text": [
      "Setting default log level to \"WARN\".\n",
      "To adjust logging level use sc.setLogLevel(newLevel). For SparkR, use setLogLevel(newLevel).\n",
      "23/12/20 10:56:26 WARN NativeCodeLoader: Unable to load native-hadoop library for your platform... using builtin-java classes where applicable\n"
     ]
    }
   ],
   "source": [
    "import numpy as np\n",
    "import pandas as pd\n",
    "import os\n",
    "import seaborn as sns\n",
    "import matplotlib.pyplot as plt\n",
    "import sys\n",
    "import findspark\n",
    "from pyspark import SparkContext\n",
    "sc = SparkContext.getOrCreate()\n",
    "findspark.init()\n",
    "from pyspark.sql import SparkSession\n",
    "spark = SparkSession.builder.getOrCreate()"
   ]
  },
  {
   "cell_type": "code",
   "execution_count": 4,
   "id": "db687eae",
   "metadata": {
    "execution": {
     "iopub.execute_input": "2023-12-20T10:56:28.665805Z",
     "iopub.status.busy": "2023-12-20T10:56:28.664597Z",
     "iopub.status.idle": "2023-12-20T10:56:28.869359Z",
     "shell.execute_reply": "2023-12-20T10:56:28.867816Z"
    },
    "papermill": {
     "duration": 0.236895,
     "end_time": "2023-12-20T10:56:28.873132",
     "exception": false,
     "start_time": "2023-12-20T10:56:28.636237",
     "status": "completed"
    },
    "tags": []
   },
   "outputs": [],
   "source": [
    "from pyspark.sql.functions import *\n",
    "from pyspark.ml import Pipeline\n",
    "from pyspark.sql import functions as F\n",
    "import scipy.stats as stats\n",
    "from pyspark.ml.stat import ChiSquareTest\n",
    "import pyspark\n",
    "from pyspark.ml.linalg import Vectors\n",
    "from pyspark.ml.feature import VectorAssembler, StringIndexer, VectorIndexer, StringIndexerModel, IndexToString, OneHotEncoder"
   ]
  },
  {
   "cell_type": "markdown",
   "id": "8d3eb7a5",
   "metadata": {
    "papermill": {
     "duration": 0.025968,
     "end_time": "2023-12-20T10:56:28.928411",
     "exception": false,
     "start_time": "2023-12-20T10:56:28.902443",
     "status": "completed"
    },
    "tags": []
   },
   "source": [
    "# **LOAD DATASET**"
   ]
  },
  {
   "cell_type": "code",
   "execution_count": 5,
   "id": "774f57a5",
   "metadata": {
    "execution": {
     "iopub.execute_input": "2023-12-20T10:56:28.985912Z",
     "iopub.status.busy": "2023-12-20T10:56:28.985387Z",
     "iopub.status.idle": "2023-12-20T10:56:40.178232Z",
     "shell.execute_reply": "2023-12-20T10:56:40.176730Z"
    },
    "papermill": {
     "duration": 11.227192,
     "end_time": "2023-12-20T10:56:40.182762",
     "exception": false,
     "start_time": "2023-12-20T10:56:28.955570",
     "status": "completed"
    },
    "tags": []
   },
   "outputs": [
    {
     "name": "stderr",
     "output_type": "stream",
     "text": [
      "                                                                                \r"
     ]
    }
   ],
   "source": [
    "train = spark.read.format(\"csv\").load(\"/kaggle/input/uit-diabetic-patients-re-admission-prediction/train_diabetic_data.csv\",header = 'True',inferSchema='True')\n",
    "test = spark.read.format(\"csv\").load(\"/kaggle/input/uit-diabetic-patients-re-admission-prediction/test_diabetic_data.csv\",header = 'True',inferSchema='True')"
   ]
  },
  {
   "cell_type": "code",
   "execution_count": 6,
   "id": "432e0033",
   "metadata": {
    "execution": {
     "iopub.execute_input": "2023-12-20T10:56:40.259266Z",
     "iopub.status.busy": "2023-12-20T10:56:40.258608Z",
     "iopub.status.idle": "2023-12-20T10:56:40.264475Z",
     "shell.execute_reply": "2023-12-20T10:56:40.263672Z"
    },
    "papermill": {
     "duration": 0.049727,
     "end_time": "2023-12-20T10:56:40.268367",
     "exception": false,
     "start_time": "2023-12-20T10:56:40.218640",
     "status": "completed"
    },
    "tags": []
   },
   "outputs": [],
   "source": [
    "drugs = ['examide','metformin', 'repaglinide', 'nateglinide', 'chlorpropamide',\n",
    "         'glimepiride', 'acetohexamide', 'glipizide','glyburide', 'tolbutamide',\n",
    "         'pioglitazone', 'rosiglitazone', 'acarbose', 'miglitol', 'troglitazone',\n",
    "        'tolazamide', 'glyburide-metformin', 'glipizide-metformin', 'glimepiride-pioglitazone',\n",
    "        'metformin-rosiglitazone', 'metformin-pioglitazone', 'citoglipton']"
   ]
  },
  {
   "cell_type": "markdown",
   "id": "de5c11ea",
   "metadata": {
    "papermill": {
     "duration": 0.024383,
     "end_time": "2023-12-20T10:56:40.317313",
     "exception": false,
     "start_time": "2023-12-20T10:56:40.292930",
     "status": "completed"
    },
    "tags": []
   },
   "source": [
    "# **Data Preprocessing**"
   ]
  },
  {
   "cell_type": "code",
   "execution_count": 7,
   "id": "1128acda",
   "metadata": {
    "execution": {
     "iopub.execute_input": "2023-12-20T10:56:40.371648Z",
     "iopub.status.busy": "2023-12-20T10:56:40.369937Z",
     "iopub.status.idle": "2023-12-20T10:56:40.392581Z",
     "shell.execute_reply": "2023-12-20T10:56:40.391722Z"
    },
    "papermill": {
     "duration": 0.052358,
     "end_time": "2023-12-20T10:56:40.395270",
     "exception": false,
     "start_time": "2023-12-20T10:56:40.342912",
     "status": "completed"
    },
    "tags": []
   },
   "outputs": [],
   "source": [
    "def data_preprocess(df):\n",
    "    # Replace '?' with None\n",
    "    df = df.replace('?', None)\n",
    "\n",
    "    # Handle missing values in the 'race' column\n",
    "    df = df.withColumn('race', when(F.col('race').isNull(), 'Other').otherwise(F.col('race')))\n",
    "    \n",
    "    #1: eme, 5: not, 3:ele\n",
    "    df = df.withColumn(\n",
    "        'admission_type_id',\n",
    "        when(F.col('admission_type_id').isin([2, 7]), 1)\n",
    "        .when(F.col('admission_type_id').isin([6, 8]), 5)\n",
    "        .otherwise(F.col('admission_type_id'))\n",
    "    )\n",
    "\n",
    "    # Replace values in 'discharge_disposition_id'\n",
    "    df = df.withColumn(\n",
    "        'discharge_disposition_id',\n",
    "        when(F.col('discharge_disposition_id').isin([6, 8, 9, 13]), 1)\n",
    "        .when(F.col('discharge_disposition_id').isin([3, 4, 5, 14, 22, 23, 24]), 2)\n",
    "        .when(F.col('discharge_disposition_id').isin([12, 15, 16, 17]), 10)\n",
    "        .when(F.col('discharge_disposition_id').isin([25, 26]), 18)\n",
    "        .otherwise(F.col('discharge_disposition_id'))\n",
    "    )\n",
    "\n",
    "    # Replace values in 'admission_source_id' 7:eme, 9:not\n",
    "    df = df.withColumn(\n",
    "        'admission_source_id',\n",
    "        when(F.col('admission_source_id').isin([2, 3]), 1)\n",
    "        .when(F.col('admission_source_id').isin([5, 6, 10, 22, 25]), 4)\n",
    "        .when(F.col('admission_source_id').isin([15, 17, 20, 21]), 9)\n",
    "        .when(F.col('admission_source_id').isin([13, 14]), 11)\n",
    "        .otherwise(F.col('admission_source_id'))\n",
    "    )\n",
    "    \n",
    "    df = df.withColumn(\n",
    "    'admission_source_id',\n",
    "    when((col('admission_source_id') == 9) & (col('admission_type_id') == 1), 7)\n",
    "    .otherwise(col('admission_source_id'))\n",
    "    )\n",
    "    \n",
    "    df = df.withColumn(\n",
    "    'admission_source_id',\n",
    "    when((col('admission_source_id') == 9) & (col('admission_type_id') == 3), 1)\n",
    "    .otherwise(col('admission_source_id'))\n",
    "    )\n",
    "    \n",
    "    df = df.withColumn('number_diab_meds', F.lit(0).cast('int'))\n",
    "\n",
    "    for j in drugs:\n",
    "        condition = (col(j) != 'No')\n",
    "        df = df.withColumn('number_diab_meds', F.when(condition, col('number_diab_meds') + 1).otherwise(col('number_diab_meds')))\n",
    "\n",
    "    df = df.withColumn('number_diab_meds', col('number_diab_meds').cast('int'))\n",
    "    df = df.withColumn(\n",
    "    'insulin_treatment',\n",
    "    when((col('insulin') != 'No') & (col('number_diab_meds') == 1), 'insulin_only')\n",
    "    .when((col('insulin') != 'No') & (col('number_diab_meds') > 1), 'insulin_combo')\n",
    "    .when((col('insulin') == 'No') & (col('number_diab_meds') == 0), 'no_med')\n",
    "    .otherwise('other_meds')\n",
    "    )\n",
    "    \n",
    "    df = df.withColumn(\n",
    "    'preceding_year_visits',\n",
    "    col('number_outpatient') + col('number_emergency') + col('number_inpatient')\n",
    "    )\n",
    "    \n",
    "    for i in drugs:\n",
    "        df = df.withColumn(\n",
    "            i,\n",
    "            when(col(i) == 'No', -2)\n",
    "            .when(col(i) == 'Down', -1)\n",
    "            .when(col(i) == 'Steady', 0)\n",
    "            .when(col(i) == 'Up', 1)\n",
    "            .otherwise(col(i))\n",
    "        )\n",
    "    \n",
    "    df = df.drop('weight','payer_code', 'medical_specialty', 'number_outpatient', 'number_emergency', 'number_inpatient', 'admission_type_id')\n",
    "    \n",
    "    for i in drugs:\n",
    "        df = df.drop(i)\n",
    "    return df"
   ]
  },
  {
   "cell_type": "code",
   "execution_count": 8,
   "id": "c0b4e0bb",
   "metadata": {
    "execution": {
     "iopub.execute_input": "2023-12-20T10:56:40.447928Z",
     "iopub.status.busy": "2023-12-20T10:56:40.447070Z",
     "iopub.status.idle": "2023-12-20T10:56:40.461836Z",
     "shell.execute_reply": "2023-12-20T10:56:40.460856Z"
    },
    "papermill": {
     "duration": 0.045008,
     "end_time": "2023-12-20T10:56:40.464680",
     "exception": false,
     "start_time": "2023-12-20T10:56:40.419672",
     "status": "completed"
    },
    "tags": []
   },
   "outputs": [],
   "source": [
    "def grouper_udf(i):\n",
    "    if i is None:\n",
    "        return \"unknown\"\n",
    "\n",
    "    i = str(i)\n",
    "\n",
    "    if i[0].isnumeric():\n",
    "        i = float(i)\n",
    "\n",
    "        if 1 <= i <= 139:\n",
    "            return \"001-139\"\n",
    "        elif 140 <= i <= 239:\n",
    "            return \"140-239\"\n",
    "        elif 240 <= i <= 279:\n",
    "            return \"240-279\"\n",
    "        elif 280 <= i <= 289:\n",
    "            return \"280-289\"\n",
    "        elif 290 <= i <= 319:\n",
    "            return \"290-319\"\n",
    "        elif 320 <= i <= 389:\n",
    "            return \"320-389\"\n",
    "        elif 390 <= i <= 459:\n",
    "            return \"390-459\"\n",
    "        elif 460 <= i <= 519:\n",
    "            return \"460-519\"\n",
    "        elif 520 <= i <= 579:\n",
    "            return \"520-579\"\n",
    "        elif 580 <= i <= 629:\n",
    "            return \"580-629\"\n",
    "        elif 630 <= i <= 679:\n",
    "            return \"630-679\"\n",
    "        elif 680 <= i <= 709:\n",
    "            return \"680-709\"\n",
    "        elif 710 <= i <= 739:\n",
    "            return \"710-739\"\n",
    "        elif 740 <= i <= 759:\n",
    "            return \"740-759\"\n",
    "        elif 760 <= i <= 779:\n",
    "            return \"760-779\"\n",
    "        elif 780 <= i <= 799:\n",
    "            return \"780-799\"\n",
    "        else:\n",
    "            return \"800-999\"\n",
    "    else:  # if the code does not begin with a number\n",
    "        return \"EV_code\"\n",
    "\n",
    "# Register the UDF\n",
    "grouper = udf(grouper_udf, StringType())"
   ]
  },
  {
   "cell_type": "code",
   "execution_count": 9,
   "id": "7956a8ea",
   "metadata": {
    "execution": {
     "iopub.execute_input": "2023-12-20T10:56:40.516661Z",
     "iopub.status.busy": "2023-12-20T10:56:40.515839Z",
     "iopub.status.idle": "2023-12-20T10:56:40.523467Z",
     "shell.execute_reply": "2023-12-20T10:56:40.522681Z"
    },
    "papermill": {
     "duration": 0.037011,
     "end_time": "2023-12-20T10:56:40.526305",
     "exception": false,
     "start_time": "2023-12-20T10:56:40.489294",
     "status": "completed"
    },
    "tags": []
   },
   "outputs": [],
   "source": [
    "def count_nulls(c):\n",
    "    \"\"\"Input pyspark dataframe and return list of columns with missing value and it's total value\"\"\"\n",
    "    null_counts = []\n",
    "    for col in c.dtypes:\n",
    "        cname = col[0]\n",
    "        ctype = col[1]\n",
    "        nulls = c.where( c[cname].isNull()).count()\n",
    "        result = tuple([cname, nulls])\n",
    "        null_counts.append(result)\n",
    "    null_counts=[(x,y) for (x,y) in null_counts if y!=0]\n",
    "    return null_counts"
   ]
  },
  {
   "cell_type": "markdown",
   "id": "2c492e5d",
   "metadata": {
    "papermill": {
     "duration": 0.025522,
     "end_time": "2023-12-20T10:56:40.665688",
     "exception": false,
     "start_time": "2023-12-20T10:56:40.640166",
     "status": "completed"
    },
    "tags": []
   },
   "source": [
    "# Train Data"
   ]
  },
  {
   "cell_type": "code",
   "execution_count": 10,
   "id": "968dcb2a",
   "metadata": {
    "execution": {
     "iopub.execute_input": "2023-12-20T10:56:40.720107Z",
     "iopub.status.busy": "2023-12-20T10:56:40.719155Z",
     "iopub.status.idle": "2023-12-20T10:56:45.188418Z",
     "shell.execute_reply": "2023-12-20T10:56:45.186933Z"
    },
    "papermill": {
     "duration": 4.501997,
     "end_time": "2023-12-20T10:56:45.193600",
     "exception": false,
     "start_time": "2023-12-20T10:56:40.691603",
     "status": "completed"
    },
    "tags": []
   },
   "outputs": [],
   "source": [
    "train = data_preprocess(train)\n",
    "# Apply the UDF to create new grouped columns\n",
    "train = train.withColumn(\"diag_1_grouped\", grouper(train[\"diag_1\"]))\n",
    "train = train.withColumn(\"diag_2_grouped\", grouper(train[\"diag_2\"]))\n",
    "train = train.withColumn(\"diag_3_grouped\", grouper(train[\"diag_3\"]))\n",
    "train = train.drop('diag_1', 'diag_2', 'diag_3')"
   ]
  },
  {
   "cell_type": "code",
   "execution_count": 11,
   "id": "c04dae5c",
   "metadata": {
    "execution": {
     "iopub.execute_input": "2023-12-20T10:56:45.251478Z",
     "iopub.status.busy": "2023-12-20T10:56:45.251008Z",
     "iopub.status.idle": "2023-12-20T10:56:48.060071Z",
     "shell.execute_reply": "2023-12-20T10:56:48.056965Z"
    },
    "papermill": {
     "duration": 2.845414,
     "end_time": "2023-12-20T10:56:48.068736",
     "exception": false,
     "start_time": "2023-12-20T10:56:45.223322",
     "status": "completed"
    },
    "tags": []
   },
   "outputs": [
    {
     "name": "stderr",
     "output_type": "stream",
     "text": [
      "[Stage 4:==============>                                            (1 + 3) / 4]\r"
     ]
    },
    {
     "name": "stdout",
     "output_type": "stream",
     "text": [
      "+----------+-----+\n",
      "|readmitted|count|\n",
      "+----------+-----+\n",
      "|       >30|13920|\n",
      "|        NO|54374|\n",
      "|       <30| 3224|\n",
      "+----------+-----+\n",
      "\n"
     ]
    },
    {
     "name": "stderr",
     "output_type": "stream",
     "text": [
      "                                                                                \r"
     ]
    }
   ],
   "source": [
    "train.groupBy('readmitted').count().show()"
   ]
  },
  {
   "cell_type": "code",
   "execution_count": 12,
   "id": "ee25e87f",
   "metadata": {
    "execution": {
     "iopub.execute_input": "2023-12-20T10:56:48.127674Z",
     "iopub.status.busy": "2023-12-20T10:56:48.126996Z",
     "iopub.status.idle": "2023-12-20T10:56:49.021701Z",
     "shell.execute_reply": "2023-12-20T10:56:49.020082Z"
    },
    "papermill": {
     "duration": 0.931157,
     "end_time": "2023-12-20T10:56:49.028613",
     "exception": false,
     "start_time": "2023-12-20T10:56:48.097456",
     "status": "completed"
    },
    "tags": []
   },
   "outputs": [
    {
     "name": "stdout",
     "output_type": "stream",
     "text": [
      "+----------+-----+\n",
      "|readmitted|count|\n",
      "+----------+-----+\n",
      "|       >30|13920|\n",
      "|        NO|54374|\n",
      "|       <30| 3224|\n",
      "+----------+-----+\n",
      "\n"
     ]
    }
   ],
   "source": [
    "train.groupBy('readmitted').count().show()"
   ]
  },
  {
   "cell_type": "code",
   "execution_count": 13,
   "id": "c3bc366b",
   "metadata": {
    "execution": {
     "iopub.execute_input": "2023-12-20T10:56:49.092607Z",
     "iopub.status.busy": "2023-12-20T10:56:49.092071Z",
     "iopub.status.idle": "2023-12-20T10:56:51.452844Z",
     "shell.execute_reply": "2023-12-20T10:56:51.451672Z"
    },
    "papermill": {
     "duration": 2.397504,
     "end_time": "2023-12-20T10:56:51.456842",
     "exception": false,
     "start_time": "2023-12-20T10:56:49.059338",
     "status": "completed"
    },
    "tags": []
   },
   "outputs": [],
   "source": [
    "grouped_data = train.groupBy(\"readmitted\").count()\n",
    "\n",
    "class_0 = train.filter(col(\"readmitted\") == \"NO\")\n",
    "class_1 = train.filter(col(\"readmitted\") == \">30\")\n",
    "class_2 = train.filter(col(\"readmitted\") == \"<30\")\n",
    "class_0_resampled = class_0.sample(True, 1000 / class_0.count(), seed=42)\n",
    "class_1_resampled = class_1.sample(True, 3224 / class_1.count(), seed=42)\n",
    "balanced_df = class_0_resampled.union(class_1).union(class_2)"
   ]
  },
  {
   "cell_type": "code",
   "execution_count": 14,
   "id": "0b9f93b3",
   "metadata": {
    "execution": {
     "iopub.execute_input": "2023-12-20T10:56:51.520418Z",
     "iopub.status.busy": "2023-12-20T10:56:51.519747Z",
     "iopub.status.idle": "2023-12-20T10:56:53.841962Z",
     "shell.execute_reply": "2023-12-20T10:56:53.839638Z"
    },
    "papermill": {
     "duration": 2.358328,
     "end_time": "2023-12-20T10:56:53.850757",
     "exception": false,
     "start_time": "2023-12-20T10:56:51.492429",
     "status": "completed"
    },
    "tags": []
   },
   "outputs": [
    {
     "name": "stderr",
     "output_type": "stream",
     "text": [
      "[Stage 16:======================================>                  (8 + 4) / 12]\r"
     ]
    },
    {
     "name": "stdout",
     "output_type": "stream",
     "text": [
      "+----------+-----+\n",
      "|readmitted|count|\n",
      "+----------+-----+\n",
      "|        NO| 1041|\n",
      "|       >30|13920|\n",
      "|       <30| 3224|\n",
      "+----------+-----+\n",
      "\n"
     ]
    },
    {
     "name": "stderr",
     "output_type": "stream",
     "text": [
      "                                                                                \r"
     ]
    }
   ],
   "source": [
    "balanced_df.groupBy('readmitted').count().show()"
   ]
  },
  {
   "cell_type": "code",
   "execution_count": 15,
   "id": "53389ac0",
   "metadata": {
    "execution": {
     "iopub.execute_input": "2023-12-20T10:56:53.927679Z",
     "iopub.status.busy": "2023-12-20T10:56:53.927159Z",
     "iopub.status.idle": "2023-12-20T10:56:53.933739Z",
     "shell.execute_reply": "2023-12-20T10:56:53.932568Z"
    },
    "papermill": {
     "duration": 0.049001,
     "end_time": "2023-12-20T10:56:53.937356",
     "exception": false,
     "start_time": "2023-12-20T10:56:53.888355",
     "status": "completed"
    },
    "tags": []
   },
   "outputs": [],
   "source": [
    "train = balanced_df"
   ]
  },
  {
   "cell_type": "code",
   "execution_count": 16,
   "id": "0e5bce5d",
   "metadata": {
    "execution": {
     "iopub.execute_input": "2023-12-20T10:56:54.004117Z",
     "iopub.status.busy": "2023-12-20T10:56:54.003466Z",
     "iopub.status.idle": "2023-12-20T10:56:54.014247Z",
     "shell.execute_reply": "2023-12-20T10:56:54.013007Z"
    },
    "papermill": {
     "duration": 0.047703,
     "end_time": "2023-12-20T10:56:54.020538",
     "exception": false,
     "start_time": "2023-12-20T10:56:53.972835",
     "status": "completed"
    },
    "tags": []
   },
   "outputs": [
    {
     "name": "stdout",
     "output_type": "stream",
     "text": [
      "root\n",
      " |-- encounter_id: integer (nullable = true)\n",
      " |-- patient_nbr: integer (nullable = true)\n",
      " |-- race: string (nullable = true)\n",
      " |-- gender: string (nullable = true)\n",
      " |-- age: string (nullable = true)\n",
      " |-- discharge_disposition_id: integer (nullable = true)\n",
      " |-- admission_source_id: integer (nullable = true)\n",
      " |-- time_in_hospital: integer (nullable = true)\n",
      " |-- num_lab_procedures: integer (nullable = true)\n",
      " |-- num_procedures: integer (nullable = true)\n",
      " |-- num_medications: integer (nullable = true)\n",
      " |-- number_diagnoses: integer (nullable = true)\n",
      " |-- max_glu_serum: string (nullable = true)\n",
      " |-- A1Cresult: string (nullable = true)\n",
      " |-- insulin: string (nullable = true)\n",
      " |-- change: string (nullable = true)\n",
      " |-- diabetesMed: string (nullable = true)\n",
      " |-- readmitted: string (nullable = true)\n",
      " |-- number_diab_meds: integer (nullable = false)\n",
      " |-- insulin_treatment: string (nullable = false)\n",
      " |-- preceding_year_visits: integer (nullable = true)\n",
      " |-- diag_1_grouped: string (nullable = true)\n",
      " |-- diag_2_grouped: string (nullable = true)\n",
      " |-- diag_3_grouped: string (nullable = true)\n",
      "\n"
     ]
    }
   ],
   "source": [
    "train.printSchema()"
   ]
  },
  {
   "cell_type": "markdown",
   "id": "c164a124",
   "metadata": {
    "papermill": {
     "duration": 0.026166,
     "end_time": "2023-12-20T10:56:54.074945",
     "exception": false,
     "start_time": "2023-12-20T10:56:54.048779",
     "status": "completed"
    },
    "tags": []
   },
   "source": [
    "# Test Data"
   ]
  },
  {
   "cell_type": "code",
   "execution_count": 17,
   "id": "698adfae",
   "metadata": {
    "execution": {
     "iopub.execute_input": "2023-12-20T10:56:54.136351Z",
     "iopub.status.busy": "2023-12-20T10:56:54.135277Z",
     "iopub.status.idle": "2023-12-20T10:56:57.552492Z",
     "shell.execute_reply": "2023-12-20T10:56:57.551166Z"
    },
    "papermill": {
     "duration": 3.452153,
     "end_time": "2023-12-20T10:56:57.555814",
     "exception": false,
     "start_time": "2023-12-20T10:56:54.103661",
     "status": "completed"
    },
    "tags": []
   },
   "outputs": [],
   "source": [
    "test = data_preprocess(test)\n",
    "# Apply the UDF to create new grouped columns\n",
    "test = test.withColumn(\"diag_1_grouped\", grouper(test[\"diag_1\"]))\n",
    "test = test.withColumn(\"diag_2_grouped\", grouper(test[\"diag_2\"]))\n",
    "test = test.withColumn(\"diag_3_grouped\", grouper(test[\"diag_3\"]))\n",
    "test = test.drop('diag_1', 'diag_2', 'diag_3')"
   ]
  },
  {
   "cell_type": "code",
   "execution_count": 18,
   "id": "eb224bc8",
   "metadata": {
    "execution": {
     "iopub.execute_input": "2023-12-20T10:56:57.613142Z",
     "iopub.status.busy": "2023-12-20T10:56:57.612664Z",
     "iopub.status.idle": "2023-12-20T10:56:57.625384Z",
     "shell.execute_reply": "2023-12-20T10:56:57.623673Z"
    },
    "papermill": {
     "duration": 0.046325,
     "end_time": "2023-12-20T10:56:57.629798",
     "exception": false,
     "start_time": "2023-12-20T10:56:57.583473",
     "status": "completed"
    },
    "tags": []
   },
   "outputs": [
    {
     "name": "stdout",
     "output_type": "stream",
     "text": [
      "root\n",
      " |-- index: integer (nullable = true)\n",
      " |-- encounter_id: integer (nullable = true)\n",
      " |-- patient_nbr: integer (nullable = true)\n",
      " |-- race: string (nullable = true)\n",
      " |-- gender: string (nullable = true)\n",
      " |-- age: string (nullable = true)\n",
      " |-- discharge_disposition_id: integer (nullable = true)\n",
      " |-- admission_source_id: integer (nullable = true)\n",
      " |-- time_in_hospital: integer (nullable = true)\n",
      " |-- num_lab_procedures: integer (nullable = true)\n",
      " |-- num_procedures: integer (nullable = true)\n",
      " |-- num_medications: integer (nullable = true)\n",
      " |-- number_diagnoses: integer (nullable = true)\n",
      " |-- max_glu_serum: string (nullable = true)\n",
      " |-- A1Cresult: string (nullable = true)\n",
      " |-- insulin: string (nullable = true)\n",
      " |-- change: string (nullable = true)\n",
      " |-- diabetesMed: string (nullable = true)\n",
      " |-- number_diab_meds: integer (nullable = false)\n",
      " |-- insulin_treatment: string (nullable = false)\n",
      " |-- preceding_year_visits: integer (nullable = true)\n",
      " |-- diag_1_grouped: string (nullable = true)\n",
      " |-- diag_2_grouped: string (nullable = true)\n",
      " |-- diag_3_grouped: string (nullable = true)\n",
      "\n"
     ]
    }
   ],
   "source": [
    "test.printSchema()"
   ]
  },
  {
   "cell_type": "markdown",
   "id": "768d7af6",
   "metadata": {
    "papermill": {
     "duration": 0.035362,
     "end_time": "2023-12-20T10:56:57.706307",
     "exception": false,
     "start_time": "2023-12-20T10:56:57.670945",
     "status": "completed"
    },
    "tags": []
   },
   "source": [
    "# **Data Indexer**"
   ]
  },
  {
   "cell_type": "code",
   "execution_count": 19,
   "id": "d1c3ca3e",
   "metadata": {
    "execution": {
     "iopub.execute_input": "2023-12-20T10:56:57.763832Z",
     "iopub.status.busy": "2023-12-20T10:56:57.763224Z",
     "iopub.status.idle": "2023-12-20T10:56:57.768929Z",
     "shell.execute_reply": "2023-12-20T10:56:57.767815Z"
    },
    "papermill": {
     "duration": 0.037192,
     "end_time": "2023-12-20T10:56:57.771271",
     "exception": false,
     "start_time": "2023-12-20T10:56:57.734079",
     "status": "completed"
    },
    "tags": []
   },
   "outputs": [],
   "source": [
    "def get_string_columns(df):\n",
    "    string_columns = [col.name for col in df.schema if col.dataType == StringType() and col.name != 'readmitted']\n",
    "    return string_columns"
   ]
  },
  {
   "cell_type": "code",
   "execution_count": 20,
   "id": "4711381d",
   "metadata": {
    "execution": {
     "iopub.execute_input": "2023-12-20T10:56:57.829464Z",
     "iopub.status.busy": "2023-12-20T10:56:57.828072Z",
     "iopub.status.idle": "2023-12-20T10:56:57.853593Z",
     "shell.execute_reply": "2023-12-20T10:56:57.852200Z"
    },
    "papermill": {
     "duration": 0.056839,
     "end_time": "2023-12-20T10:56:57.856221",
     "exception": false,
     "start_time": "2023-12-20T10:56:57.799382",
     "status": "completed"
    },
    "tags": []
   },
   "outputs": [
    {
     "data": {
      "text/plain": [
       "['race',\n",
       " 'gender',\n",
       " 'age',\n",
       " 'max_glu_serum',\n",
       " 'A1Cresult',\n",
       " 'insulin',\n",
       " 'change',\n",
       " 'diabetesMed',\n",
       " 'insulin_treatment',\n",
       " 'diag_1_grouped',\n",
       " 'diag_2_grouped',\n",
       " 'diag_3_grouped']"
      ]
     },
     "execution_count": 20,
     "metadata": {},
     "output_type": "execute_result"
    }
   ],
   "source": [
    "cat_col = get_string_columns(train)\n",
    "cat_col"
   ]
  },
  {
   "cell_type": "code",
   "execution_count": 21,
   "id": "66a155c7",
   "metadata": {
    "execution": {
     "iopub.execute_input": "2023-12-20T10:56:57.913549Z",
     "iopub.status.busy": "2023-12-20T10:56:57.912471Z",
     "iopub.status.idle": "2023-12-20T10:57:31.160117Z",
     "shell.execute_reply": "2023-12-20T10:57:31.158806Z"
    },
    "papermill": {
     "duration": 33.280219,
     "end_time": "2023-12-20T10:57:31.163492",
     "exception": false,
     "start_time": "2023-12-20T10:56:57.883273",
     "status": "completed"
    },
    "tags": []
   },
   "outputs": [
    {
     "name": "stderr",
     "output_type": "stream",
     "text": [
      "                                                                                \r"
     ]
    }
   ],
   "source": [
    "from pyspark.ml.feature import Imputer\n",
    "indexer_stages = []\n",
    "\n",
    "labelIndexer = StringIndexer(inputCol='readmitted', outputCol=\"label\")\n",
    "indexedLabelTrain=labelIndexer.fit(train).transform(train)\n",
    "indexedLabelTrain = indexedLabelTrain.drop('readmitted')\n",
    "\n",
    "cat_col = get_string_columns(indexedLabelTrain)\n",
    "for col_name in cat_col:\n",
    "    indexer = StringIndexer(inputCol=col_name, outputCol=f\"indexed_{col_name}\", handleInvalid=\"keep\")\n",
    "    indexer_stages.append(indexer)\n",
    "\n",
    "indexed_df = indexedLabelTrain\n",
    "for index in indexer_stages:\n",
    "  indexed_df = index.fit(indexed_df).transform(indexed_df)\n",
    "df_transformed = indexed_df.drop(*cat_col)"
   ]
  },
  {
   "cell_type": "code",
   "execution_count": 22,
   "id": "62d6b055",
   "metadata": {
    "execution": {
     "iopub.execute_input": "2023-12-20T10:57:31.233613Z",
     "iopub.status.busy": "2023-12-20T10:57:31.233087Z",
     "iopub.status.idle": "2023-12-20T10:57:33.076310Z",
     "shell.execute_reply": "2023-12-20T10:57:33.075063Z"
    },
    "papermill": {
     "duration": 1.882599,
     "end_time": "2023-12-20T10:57:33.079702",
     "exception": false,
     "start_time": "2023-12-20T10:57:31.197103",
     "status": "completed"
    },
    "tags": []
   },
   "outputs": [
    {
     "name": "stderr",
     "output_type": "stream",
     "text": [
      "[Stage 58:==============================================>         (10 + 2) / 12]\r"
     ]
    },
    {
     "name": "stdout",
     "output_type": "stream",
     "text": [
      "+-----+-----+\n",
      "|label|count|\n",
      "+-----+-----+\n",
      "|  2.0| 1041|\n",
      "|  0.0|13920|\n",
      "|  1.0| 3224|\n",
      "+-----+-----+\n",
      "\n"
     ]
    },
    {
     "name": "stderr",
     "output_type": "stream",
     "text": [
      "                                                                                \r"
     ]
    }
   ],
   "source": [
    "indexedLabelTrain.groupby('label').count().show()"
   ]
  },
  {
   "cell_type": "code",
   "execution_count": 23,
   "id": "bb3d38c1",
   "metadata": {
    "execution": {
     "iopub.execute_input": "2023-12-20T10:57:33.158466Z",
     "iopub.status.busy": "2023-12-20T10:57:33.155878Z",
     "iopub.status.idle": "2023-12-20T10:57:33.171253Z",
     "shell.execute_reply": "2023-12-20T10:57:33.168706Z"
    },
    "papermill": {
     "duration": 0.063652,
     "end_time": "2023-12-20T10:57:33.175388",
     "exception": false,
     "start_time": "2023-12-20T10:57:33.111736",
     "status": "completed"
    },
    "tags": []
   },
   "outputs": [
    {
     "name": "stdout",
     "output_type": "stream",
     "text": [
      "root\n",
      " |-- encounter_id: integer (nullable = true)\n",
      " |-- patient_nbr: integer (nullable = true)\n",
      " |-- discharge_disposition_id: integer (nullable = true)\n",
      " |-- admission_source_id: integer (nullable = true)\n",
      " |-- time_in_hospital: integer (nullable = true)\n",
      " |-- num_lab_procedures: integer (nullable = true)\n",
      " |-- num_procedures: integer (nullable = true)\n",
      " |-- num_medications: integer (nullable = true)\n",
      " |-- number_diagnoses: integer (nullable = true)\n",
      " |-- number_diab_meds: integer (nullable = false)\n",
      " |-- preceding_year_visits: integer (nullable = true)\n",
      " |-- label: double (nullable = false)\n",
      " |-- indexed_race: double (nullable = false)\n",
      " |-- indexed_gender: double (nullable = false)\n",
      " |-- indexed_age: double (nullable = false)\n",
      " |-- indexed_max_glu_serum: double (nullable = false)\n",
      " |-- indexed_A1Cresult: double (nullable = false)\n",
      " |-- indexed_insulin: double (nullable = false)\n",
      " |-- indexed_change: double (nullable = false)\n",
      " |-- indexed_diabetesMed: double (nullable = false)\n",
      " |-- indexed_insulin_treatment: double (nullable = false)\n",
      " |-- indexed_diag_1_grouped: double (nullable = false)\n",
      " |-- indexed_diag_2_grouped: double (nullable = false)\n",
      " |-- indexed_diag_3_grouped: double (nullable = false)\n",
      "\n"
     ]
    }
   ],
   "source": [
    "df_transformed.printSchema()"
   ]
  },
  {
   "cell_type": "code",
   "execution_count": 24,
   "id": "40b57416",
   "metadata": {
    "execution": {
     "iopub.execute_input": "2023-12-20T10:57:33.266731Z",
     "iopub.status.busy": "2023-12-20T10:57:33.266168Z",
     "iopub.status.idle": "2023-12-20T10:57:33.285424Z",
     "shell.execute_reply": "2023-12-20T10:57:33.283241Z"
    },
    "papermill": {
     "duration": 0.066054,
     "end_time": "2023-12-20T10:57:33.290000",
     "exception": false,
     "start_time": "2023-12-20T10:57:33.223946",
     "status": "completed"
    },
    "tags": []
   },
   "outputs": [
    {
     "data": {
      "text/plain": [
       "['encounter_id',\n",
       " 'patient_nbr',\n",
       " 'discharge_disposition_id',\n",
       " 'admission_source_id',\n",
       " 'time_in_hospital',\n",
       " 'num_lab_procedures',\n",
       " 'num_procedures',\n",
       " 'num_medications',\n",
       " 'number_diagnoses',\n",
       " 'number_diab_meds',\n",
       " 'preceding_year_visits',\n",
       " 'indexed_race',\n",
       " 'indexed_gender',\n",
       " 'indexed_age',\n",
       " 'indexed_max_glu_serum',\n",
       " 'indexed_A1Cresult',\n",
       " 'indexed_insulin',\n",
       " 'indexed_change',\n",
       " 'indexed_diabetesMed',\n",
       " 'indexed_insulin_treatment',\n",
       " 'indexed_diag_1_grouped',\n",
       " 'indexed_diag_2_grouped',\n",
       " 'indexed_diag_3_grouped']"
      ]
     },
     "execution_count": 24,
     "metadata": {},
     "output_type": "execute_result"
    }
   ],
   "source": [
    "feature_columns = [col for col in df_transformed.columns if col != \"label\"]\n",
    "feature_columns"
   ]
  },
  {
   "cell_type": "code",
   "execution_count": 25,
   "id": "56da7ec2",
   "metadata": {
    "execution": {
     "iopub.execute_input": "2023-12-20T10:57:33.381457Z",
     "iopub.status.busy": "2023-12-20T10:57:33.380291Z",
     "iopub.status.idle": "2023-12-20T10:57:38.568345Z",
     "shell.execute_reply": "2023-12-20T10:57:38.566724Z"
    },
    "papermill": {
     "duration": 5.234133,
     "end_time": "2023-12-20T10:57:38.573224",
     "exception": false,
     "start_time": "2023-12-20T10:57:33.339091",
     "status": "completed"
    },
    "tags": []
   },
   "outputs": [
    {
     "name": "stderr",
     "output_type": "stream",
     "text": [
      "23/12/20 10:57:36 WARN SparkStringUtils: Truncated the string representation of a plan since it was too large. This behavior can be adjusted by setting 'spark.sql.debug.maxToStringFields'.\n",
      "[Stage 61:>                                                         (0 + 1) / 1]\r"
     ]
    },
    {
     "name": "stdout",
     "output_type": "stream",
     "text": [
      "+------------+-----------+------------------------+-------------------+----------------+------------------+--------------+---------------+----------------+----------------+---------------------+-----+------------+--------------+-----------+---------------------+-----------------+---------------+--------------+-------------------+-------------------------+----------------------+----------------------+----------------------+--------------------+\n",
      "|encounter_id|patient_nbr|discharge_disposition_id|admission_source_id|time_in_hospital|num_lab_procedures|num_procedures|num_medications|number_diagnoses|number_diab_meds|preceding_year_visits|label|indexed_race|indexed_gender|indexed_age|indexed_max_glu_serum|indexed_A1Cresult|indexed_insulin|indexed_change|indexed_diabetesMed|indexed_insulin_treatment|indexed_diag_1_grouped|indexed_diag_2_grouped|indexed_diag_3_grouped|            features|\n",
      "+------------+-----------+------------------------+-------------------+----------------+------------------+--------------+---------------+----------------+----------------+---------------------+-----+------------+--------------+-----------+---------------------+-----------------+---------------+--------------+-------------------+-------------------------+----------------------+----------------------+----------------------+--------------------+\n",
      "|     2267052|    7472070|                      18|                  7|               7|                35|             2|             11|               4|               0|                    0|  2.0|         1.0|           0.0|        6.0|                  0.0|              0.0|            0.0|           0.0|                1.0|                      1.0|                   1.0|                   0.0|                   9.0|[2267052.0,747207...|\n",
      "|     2671290|    3492477|                      18|                  1|              10|                 1|             0|              3|               4|               0|                    0|  2.0|         1.0|           1.0|        8.0|                  0.0|              1.0|            1.0|           0.0|                0.0|                      0.0|                   1.0|                   8.0|                   4.0|[2671290.0,349247...|\n",
      "+------------+-----------+------------------------+-------------------+----------------+------------------+--------------+---------------+----------------+----------------+---------------------+-----+------------+--------------+-----------+---------------------+-----------------+---------------+--------------+-------------------+-------------------------+----------------------+----------------------+----------------------+--------------------+\n",
      "only showing top 2 rows\n",
      "\n"
     ]
    },
    {
     "name": "stderr",
     "output_type": "stream",
     "text": [
      "                                                                                \r"
     ]
    }
   ],
   "source": [
    "assembler = VectorAssembler(inputCols=feature_columns, outputCol=\"features\")\n",
    "df2 = assembler.transform(df_transformed)\n",
    "df2.show(2)"
   ]
  },
  {
   "cell_type": "code",
   "execution_count": 26,
   "id": "59c1ebca",
   "metadata": {
    "execution": {
     "iopub.execute_input": "2023-12-20T10:57:38.673489Z",
     "iopub.status.busy": "2023-12-20T10:57:38.672785Z",
     "iopub.status.idle": "2023-12-20T10:59:02.311371Z",
     "shell.execute_reply": "2023-12-20T10:59:02.310129Z"
    },
    "papermill": {
     "duration": 83.69171,
     "end_time": "2023-12-20T10:59:02.314353",
     "exception": false,
     "start_time": "2023-12-20T10:57:38.622643",
     "status": "completed"
    },
    "tags": []
   },
   "outputs": [
    {
     "name": "stderr",
     "output_type": "stream",
     "text": [
      "23/12/20 10:58:36 WARN DAGScheduler: Broadcasting large task binary with size 1233.6 KiB\n",
      "23/12/20 10:58:38 WARN DAGScheduler: Broadcasting large task binary with size 1918.0 KiB\n",
      "23/12/20 10:58:41 WARN DAGScheduler: Broadcasting large task binary with size 3.1 MiB\n",
      "23/12/20 10:58:45 WARN DAGScheduler: Broadcasting large task binary with size 5.1 MiB\n",
      "23/12/20 10:58:49 WARN DAGScheduler: Broadcasting large task binary with size 1127.5 KiB\n",
      "23/12/20 10:58:51 WARN DAGScheduler: Broadcasting large task binary with size 8.3 MiB\n",
      "23/12/20 10:58:56 WARN DAGScheduler: Broadcasting large task binary with size 1689.2 KiB\n",
      "                                                                                \r"
     ]
    }
   ],
   "source": [
    "from pyspark.ml.classification import DecisionTreeClassifier,NaiveBayes, RandomForestClassifier, MultilayerPerceptronClassifier\n",
    "from pyspark.ml.feature import StandardScaler\n",
    "\n",
    "scaler = StandardScaler(inputCol=\"features\", outputCol=\"scaled_features\", withMean=True, withStd=True)\n",
    "model = RandomForestClassifier(labelCol=\"label\", featuresCol=\"scaled_features\", maxDepth=9, numTrees=150)\n",
    "all_stages = indexer_stages + [assembler, scaler, model]\n",
    "pipeline = Pipeline(stages=all_stages)\n",
    "\n",
    "\n",
    "# train_data, test_data = indexedLabelTrain.randomSplit([0.8, 0.2], seed=42)\n",
    "model = pipeline.fit(indexedLabelTrain)"
   ]
  },
  {
   "cell_type": "code",
   "execution_count": 27,
   "id": "254df650",
   "metadata": {
    "execution": {
     "iopub.execute_input": "2023-12-20T10:59:02.397800Z",
     "iopub.status.busy": "2023-12-20T10:59:02.396715Z",
     "iopub.status.idle": "2023-12-20T10:59:02.402251Z",
     "shell.execute_reply": "2023-12-20T10:59:02.401013Z"
    },
    "papermill": {
     "duration": 0.050397,
     "end_time": "2023-12-20T10:59:02.405019",
     "exception": false,
     "start_time": "2023-12-20T10:59:02.354622",
     "status": "completed"
    },
    "tags": []
   },
   "outputs": [],
   "source": [
    "# train_data.groupBy('label').count().show()"
   ]
  },
  {
   "cell_type": "code",
   "execution_count": 28,
   "id": "db810a8d",
   "metadata": {
    "execution": {
     "iopub.execute_input": "2023-12-20T10:59:02.488161Z",
     "iopub.status.busy": "2023-12-20T10:59:02.487645Z",
     "iopub.status.idle": "2023-12-20T10:59:02.493435Z",
     "shell.execute_reply": "2023-12-20T10:59:02.491948Z"
    },
    "papermill": {
     "duration": 0.050613,
     "end_time": "2023-12-20T10:59:02.495786",
     "exception": false,
     "start_time": "2023-12-20T10:59:02.445173",
     "status": "completed"
    },
    "tags": []
   },
   "outputs": [],
   "source": [
    "# test_data.groupBy('label').count().show()"
   ]
  },
  {
   "cell_type": "code",
   "execution_count": 29,
   "id": "9851bc06",
   "metadata": {
    "execution": {
     "iopub.execute_input": "2023-12-20T10:59:02.578646Z",
     "iopub.status.busy": "2023-12-20T10:59:02.577752Z",
     "iopub.status.idle": "2023-12-20T10:59:02.582957Z",
     "shell.execute_reply": "2023-12-20T10:59:02.581752Z"
    },
    "papermill": {
     "duration": 0.049837,
     "end_time": "2023-12-20T10:59:02.585545",
     "exception": false,
     "start_time": "2023-12-20T10:59:02.535708",
     "status": "completed"
    },
    "tags": []
   },
   "outputs": [],
   "source": [
    "# from pyspark.ml.evaluation import MulticlassClassificationEvaluator\n",
    "# predictions = model.transform(test_data)\n",
    "\n",
    "# accuracy_evaluator = MulticlassClassificationEvaluator(labelCol=\"label\", predictionCol=\"prediction\", metricName=\"accuracy\")\n",
    "# accuracy = accuracy_evaluator.evaluate(predictions)\n",
    "# print(f\"Accuracy: {accuracy}\")\n",
    "\n",
    "# # Evaluate F1 score\n",
    "# f1_evaluator = MulticlassClassificationEvaluator(labelCol=\"label\", predictionCol=\"prediction\", metricName=\"f1\")\n",
    "# f1_score = f1_evaluator.evaluate(predictions)\n",
    "# print(f\"F1 Score: {f1_score}\")"
   ]
  },
  {
   "cell_type": "code",
   "execution_count": 30,
   "id": "00324ada",
   "metadata": {
    "execution": {
     "iopub.execute_input": "2023-12-20T10:59:02.669734Z",
     "iopub.status.busy": "2023-12-20T10:59:02.669195Z",
     "iopub.status.idle": "2023-12-20T10:59:06.214855Z",
     "shell.execute_reply": "2023-12-20T10:59:06.213612Z"
    },
    "papermill": {
     "duration": 3.596392,
     "end_time": "2023-12-20T10:59:06.221865",
     "exception": false,
     "start_time": "2023-12-20T10:59:02.625473",
     "status": "completed"
    },
    "tags": []
   },
   "outputs": [
    {
     "name": "stderr",
     "output_type": "stream",
     "text": [
      "23/12/20 10:59:05 WARN DAGScheduler: Broadcasting large task binary with size 5.9 MiB\n",
      "[Stage 123:>                                                        (0 + 1) / 1]\r"
     ]
    },
    {
     "name": "stdout",
     "output_type": "stream",
     "text": [
      "+-----+----------+\n",
      "|index|prediction|\n",
      "+-----+----------+\n",
      "|   12|       0.0|\n",
      "|   27|       0.0|\n",
      "|   28|       0.0|\n",
      "|   32|       0.0|\n",
      "|   33|       0.0|\n",
      "|   35|       0.0|\n",
      "|   37|       0.0|\n",
      "|   43|       0.0|\n",
      "|   46|       0.0|\n",
      "|   50|       0.0|\n",
      "|   60|       0.0|\n",
      "|   68|       0.0|\n",
      "|   71|       0.0|\n",
      "|   75|       0.0|\n",
      "|   79|       0.0|\n",
      "|   82|       0.0|\n",
      "|   91|       0.0|\n",
      "|   94|       0.0|\n",
      "|   96|       0.0|\n",
      "|  110|       0.0|\n",
      "+-----+----------+\n",
      "only showing top 20 rows\n",
      "\n"
     ]
    },
    {
     "name": "stderr",
     "output_type": "stream",
     "text": [
      "                                                                                \r"
     ]
    }
   ],
   "source": [
    "testSolutions = model.transform(test).select('index','prediction')\n",
    "testSolutions.show()\n",
    "\n",
    "labelsArray = ['GT30' , 'LT30' , 'NO']\n",
    "testSolutions = IndexToString(inputCol=\"prediction\", outputCol=\"readmitted\", labels = labelsArray).transform(testSolutions)"
   ]
  },
  {
   "cell_type": "code",
   "execution_count": 31,
   "id": "e2dfa4cb",
   "metadata": {
    "execution": {
     "iopub.execute_input": "2023-12-20T10:59:06.324695Z",
     "iopub.status.busy": "2023-12-20T10:59:06.324190Z",
     "iopub.status.idle": "2023-12-20T10:59:12.814833Z",
     "shell.execute_reply": "2023-12-20T10:59:12.813863Z"
    },
    "papermill": {
     "duration": 6.539347,
     "end_time": "2023-12-20T10:59:12.817720",
     "exception": false,
     "start_time": "2023-12-20T10:59:06.278373",
     "status": "completed"
    },
    "tags": []
   },
   "outputs": [
    {
     "name": "stderr",
     "output_type": "stream",
     "text": [
      "23/12/20 10:59:07 WARN DAGScheduler: Broadcasting large task binary with size 5.9 MiB\n",
      "                                                                                \r"
     ]
    }
   ],
   "source": [
    "solutions = testSolutions.select('index','readmitted')\n",
    "solutions.toPandas().to_csv(\"dumpsolutions.csv\",header=True, index=False)"
   ]
  },
  {
   "cell_type": "code",
   "execution_count": 32,
   "id": "a2fa1341",
   "metadata": {
    "execution": {
     "iopub.execute_input": "2023-12-20T10:59:12.905265Z",
     "iopub.status.busy": "2023-12-20T10:59:12.904492Z",
     "iopub.status.idle": "2023-12-20T10:59:19.546032Z",
     "shell.execute_reply": "2023-12-20T10:59:19.544280Z"
    },
    "papermill": {
     "duration": 6.689747,
     "end_time": "2023-12-20T10:59:19.550100",
     "exception": false,
     "start_time": "2023-12-20T10:59:12.860353",
     "status": "completed"
    },
    "tags": []
   },
   "outputs": [
    {
     "name": "stderr",
     "output_type": "stream",
     "text": [
      "23/12/20 10:59:14 WARN DAGScheduler: Broadcasting large task binary with size 5.9 MiB\n",
      "23/12/20 10:59:19 WARN DAGScheduler: Broadcasting large task binary with size 5.9 MiB\n",
      "                                                                                \r"
     ]
    },
    {
     "name": "stdout",
     "output_type": "stream",
     "text": [
      "+----------+-----+\n",
      "|readmitted|count|\n",
      "+----------+-----+\n",
      "|      LT30|   33|\n",
      "|        NO|    4|\n",
      "|      GT30|30211|\n",
      "+----------+-----+\n",
      "\n"
     ]
    }
   ],
   "source": [
    "solutions.groupBy('readmitted').count().show()"
   ]
  }
 ],
 "metadata": {
  "kaggle": {
   "accelerator": "none",
   "dataSources": [
    {
     "databundleVersionId": 7222285,
     "sourceId": 65610,
     "sourceType": "competition"
    }
   ],
   "dockerImageVersionId": 30626,
   "isGpuEnabled": false,
   "isInternetEnabled": true,
   "language": "python",
   "sourceType": "notebook"
  },
  "kernelspec": {
   "display_name": "Python 3",
   "language": "python",
   "name": "python3"
  },
  "language_info": {
   "codemirror_mode": {
    "name": "ipython",
    "version": 3
   },
   "file_extension": ".py",
   "mimetype": "text/x-python",
   "name": "python",
   "nbconvert_exporter": "python",
   "pygments_lexer": "ipython3",
   "version": "3.10.12"
  },
  "papermill": {
   "default_parameters": {},
   "duration": 259.085973,
   "end_time": "2023-12-20T10:59:22.237128",
   "environment_variables": {},
   "exception": null,
   "input_path": "__notebook__.ipynb",
   "output_path": "__notebook__.ipynb",
   "parameters": {},
   "start_time": "2023-12-20T10:55:03.151155",
   "version": "2.4.0"
  }
 },
 "nbformat": 4,
 "nbformat_minor": 5
}
